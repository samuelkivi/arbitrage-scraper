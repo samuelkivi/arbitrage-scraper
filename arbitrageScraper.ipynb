{
 "cells": [
  {
   "cell_type": "code",
   "execution_count": 1,
   "id": "bd9668fd",
   "metadata": {},
   "outputs": [],
   "source": [
    "from bs4 import BeautifulSoup\n",
    "\n",
    "def get_odds(html):\n",
    "    soup = BeautifulSoup(html, 'html.parser')\n",
    "\n",
    "    # Find all <p> elements with the specified class\n",
    "    p_elements = soup.find_all('p', class_='height-content')\n",
    "    \n",
    "    # Extract the values from the <p> elements\n",
    "    values = [p.get_text() for p in p_elements]\n",
    "    \n",
    "    a_element = soup.find('a', class_='next-m:flex-row')\n",
    "    value = a_element['href']\n",
    "    \n",
    "    values.append(value)\n",
    "    return values\n",
    "\n",
    "def calc_arb(one, x, two='0'):\n",
    "    if(two=='0'):\n",
    "        return ((1/float(one)) + (1/float(x)))*100\n",
    "    return ((1/float(one)) + (1/float(x)) + (1/float(two)))*100\n",
    "\n",
    "def arb_roi(arb):\n",
    "    return arb - 100\n",
    "\n",
    "def calc_stake(potential_win: float, odd1: float, odd2: float, oddX: float = 0):\n",
    "    if(oddX == 0):\n",
    "        return (float(potential_win)/float(odd1)), (float(potential_win)/float(odd2))\n",
    "    else:\n",
    "        return (float(potential_win)/float(odd1)), (float(potential_win)/float(odd2)), (float(potential_win)/float(oddX))"
   ]
  },
  {
   "cell_type": "code",
   "execution_count": 2,
   "id": "2431e580",
   "metadata": {},
   "outputs": [],
   "source": [
    "def scroll_to_page_end(pause_time):\n",
    "\n",
    "    last_height = driver.execute_script(\"return document.body.scrollHeight\")\n",
    "\n",
    "    while True:\n",
    "        # Scroll down to bottom\n",
    "        driver.execute_script(\"window.scrollTo(0, document.body.scrollHeight);\")\n",
    "\n",
    "        # Wait to load page\n",
    "        time.sleep(pause_time)\n",
    "\n",
    "        # Calculate new scroll height and compare with last scroll height\n",
    "        new_height = driver.execute_script(\"return document.body.scrollHeight\")\n",
    "        if new_height == last_height:\n",
    "            break\n",
    "        last_height = new_height"
   ]
  },
  {
   "cell_type": "code",
   "execution_count": 3,
   "id": "2ef7249f",
   "metadata": {},
   "outputs": [],
   "source": [
    "def get_scraping(link):\n",
    "#     print(link)\n",
    "    driver.get(link)\n",
    "    time.sleep(1)\n",
    "    SCROLL_PAUSE_TIME = 1\n",
    "    scroll_to_page_end(SCROLL_PAUSE_TIME)\n",
    "\n",
    "    elements = driver.find_elements(By.CLASS_NAME, 'eventRow')\n",
    "    for element in elements:\n",
    "        odds.append(get_odds(element.get_attribute('innerHTML')))"
   ]
  },
  {
   "cell_type": "code",
   "execution_count": 4,
   "id": "464309d1",
   "metadata": {
    "scrolled": true
   },
   "outputs": [
    {
     "name": "stdout",
     "output_type": "stream",
     "text": [
      "1\n"
     ]
    }
   ],
   "source": [
    "links = []\n",
    "with open('untitled.txt') as file:\n",
    "    links = [line.rstrip() for line in file]\n",
    "print(len(links))"
   ]
  },
  {
   "cell_type": "code",
   "execution_count": 5,
   "id": "dd58c752",
   "metadata": {},
   "outputs": [],
   "source": [
    "# datelist = pd.date_range(datetime.today(), periods=10).tolist()\n",
    "\n",
    "# date_list = []\n",
    "\n",
    "# for date in datelist:\n",
    "#     date_list.append(date.strftime(\"%Y%m%d\"))"
   ]
  },
  {
   "cell_type": "code",
   "execution_count": 6,
   "id": "8e356583",
   "metadata": {
    "scrolled": false
   },
   "outputs": [
    {
     "name": "stdout",
     "output_type": "stream",
     "text": [
      "0\n",
      "2\n"
     ]
    }
   ],
   "source": [
    "from selenium import webdriver \n",
    "from selenium.webdriver.common.by import By \n",
    "from selenium.webdriver.chrome.service import Service as ChromeService \n",
    "from webdriver_manager.chrome import ChromeDriverManager \n",
    "from selenium.webdriver.support.wait import WebDriverWait\n",
    "from selenium.webdriver.support import expected_conditions as EC\n",
    "import time\n",
    "\n",
    "# instantiate options \n",
    "options = webdriver.ChromeOptions() \n",
    "options.add_argument(\"--start-maximized\")\n",
    "\n",
    "# run browser in headless mode \n",
    "# options.add_argument(\"--headless=new\")\n",
    " \n",
    "# instantiate driver \n",
    "driver = webdriver.Chrome(service=ChromeService(ChromeDriverManager().install()), options=options) \n",
    "\n",
    "odds = []\n",
    "for index, link in enumerate(links):\n",
    "    if(index % 5 == 0):\n",
    "        print(index)\n",
    "    get_scraping(link)\n",
    "\n",
    "driver.quit()\n",
    "print(len(odds))"
   ]
  },
  {
   "cell_type": "code",
   "execution_count": 7,
   "id": "d2c243ff",
   "metadata": {
    "scrolled": false
   },
   "outputs": [
    {
     "name": "stdout",
     "output_type": "stream",
     "text": [
      "0\n"
     ]
    }
   ],
   "source": [
    "from termcolor import colored\n",
    "import pandas as pd\n",
    "\n",
    "df = pd.DataFrame(columns=['name','arb', '1', 'X', '2', 'stake1', 'stake2', 'stakeX'])\n",
    "\n",
    "bet_amount = 100\n",
    "\n",
    "for index, odd in enumerate(odds):\n",
    "    if(index % 50 == 0):\n",
    "        print(index)\n",
    "    try:\n",
    "        if(len(odd) == 3):\n",
    "            arb = calc_arb(odd[0], odd[1])\n",
    "            stake1, stake2 = calc_stake((bet_amount/arb), odd[0], odd[1])\n",
    "            df.loc[len(df)] = [odd[2], arb, odd[0], '-', odd[1], stake1, stake2, '-']\n",
    "#             print(colored(odd[2], 'magenta'), colored(arb, 'green' if arb < 100 else 'red' ))\n",
    "        else:\n",
    "            arb = calc_arb(odd[0], odd[1], odd[2])\n",
    "            stake1, stake2, stakeX = calc_stake((bet_amount/arb), odd[0], odd[1], odd[2])            \n",
    "            df.loc[len(df)] = [odd[3], arb, odd[0], odd[1], odd[2], stake1, stake2, stakeX]\n",
    "#             print(colored(odd[3], 'magenta'), colored(arb, 'green' if arb < 100 else 'red' ))\n",
    "    except:\n",
    "#         print(odd)\n",
    "#         print(colored(\"An exception occurred\", 'blue'))\n",
    "        continue"
   ]
  },
  {
   "cell_type": "code",
   "execution_count": 8,
   "id": "b3d76353",
   "metadata": {
    "scrolled": false
   },
   "outputs": [
    {
     "data": {
      "text/html": [
       "<div>\n",
       "<style scoped>\n",
       "    .dataframe tbody tr th:only-of-type {\n",
       "        vertical-align: middle;\n",
       "    }\n",
       "\n",
       "    .dataframe tbody tr th {\n",
       "        vertical-align: top;\n",
       "    }\n",
       "\n",
       "    .dataframe thead th {\n",
       "        text-align: right;\n",
       "    }\n",
       "</style>\n",
       "<table border=\"1\" class=\"dataframe\">\n",
       "  <thead>\n",
       "    <tr style=\"text-align: right;\">\n",
       "      <th></th>\n",
       "      <th>name</th>\n",
       "      <th>arb</th>\n",
       "      <th>1</th>\n",
       "      <th>X</th>\n",
       "      <th>2</th>\n",
       "      <th>stake1</th>\n",
       "      <th>stake2</th>\n",
       "      <th>stakeX</th>\n",
       "    </tr>\n",
       "  </thead>\n",
       "  <tbody>\n",
       "  </tbody>\n",
       "</table>\n",
       "</div>"
      ],
      "text/plain": [
       "Empty DataFrame\n",
       "Columns: [name, arb, 1, X, 2, stake1, stake2, stakeX]\n",
       "Index: []"
      ]
     },
     "execution_count": 8,
     "metadata": {},
     "output_type": "execute_result"
    }
   ],
   "source": [
    "df[df['arb'] < 104]\n",
    "# df.nsmallest(10, ['arb'])"
   ]
  },
  {
   "cell_type": "code",
   "execution_count": 11,
   "id": "4020498e",
   "metadata": {},
   "outputs": [],
   "source": [
    "# df"
   ]
  }
 ],
 "metadata": {
  "kernelspec": {
   "display_name": "Python 3 (ipykernel)",
   "language": "python",
   "name": "python3"
  },
  "language_info": {
   "codemirror_mode": {
    "name": "ipython",
    "version": 3
   },
   "file_extension": ".py",
   "mimetype": "text/x-python",
   "name": "python",
   "nbconvert_exporter": "python",
   "pygments_lexer": "ipython3",
   "version": "3.11.3"
  }
 },
 "nbformat": 4,
 "nbformat_minor": 5
}
